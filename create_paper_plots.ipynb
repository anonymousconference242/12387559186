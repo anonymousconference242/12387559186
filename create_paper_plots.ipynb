{
 "cells": [
  {
   "cell_type": "code",
   "execution_count": null,
   "metadata": {},
   "outputs": [],
   "source": [
    "import am24utils\n",
    "from am24utils import Run\n",
    "import pickle\n",
    "import os\n",
    "import matplotlib.pyplot as plt"
   ]
  },
  {
   "cell_type": "code",
   "execution_count": null,
   "metadata": {},
   "outputs": [],
   "source": [
    "pltBold = lambda y: r\"$\\bf{{{x}}}$\".format(x=y)\n",
    "\n",
    "\n",
    "TASK_A_YIN =    ('results/task-A/date_2024-05-02_16-33-13/taskA_Yin_results.pickle',   'errors',  'box', 'tab:blue',    'Pitch Detection task (PD) - Yin',  'tab:blue')\n",
    "TASK_A_CREPE =  ('results/task-A/date_2024-05-02_16-33-13/taskA_CREPE_results.pickle', 'errors',  'box', 'tab:blue',    'Pitch Detection task (PD) - CREPE',    'tab:blue')\n",
    "TASK_B_KNN =    ('results/task-B/date_2024-04-30_14-55-05/taskB_KNN_results.pickle',   'mean_f1', 'bar', 'tab:blue',    'Binary Classification task (BC) - KNN',  'tab:blue')\n",
    "TASK_B_RESNET = ('results/task-B/date_2024-04-30_14-55-05/taskB_ResNet_results.pickle','mean_f1', 'bar', 'tab:blue',    'Binary Classification task (BC) - ResNet',   'tab:blue')\n",
    "TASK_C_KNN =    ('results/task-C/date_2024-05-08_20-09-07/taskC_KNN_results.pickle',   'mean_f1', 'bar', 'tab:orange',  'Dynamics Classification task (DC) - KNN',   'tab:orange')\n",
    "TASK_C_RESNET = ('results/task-C/date_2024-05-08_20-09-07/taskC_ResNet_results.pickle','mean_f1', 'bar', 'tab:orange',  'Dynamics Classification task (DC) - ResNet',    'tab:orange')\n",
    "TASK_D_KNN =    ('results/task-D/date_2024-05-01_10-02-19/taskD_KNN_results.pickle',   'mean_f1', 'bar', 'tab:red',   'Playing Technique Classification task (TC) - KNN',   'tab:red')\n",
    "TASK_D_RESNET = ('results/task-D/date_2024-05-01_10-02-19/taskD_ResNet_results.pickle','mean_f1', 'bar', 'tab:red',   'Playing Technique Classification task (TC) - ResNet',    'tab:red')\n",
    "\n",
    "tasks = [TASK_A_YIN,TASK_A_CREPE, TASK_B_KNN, TASK_B_RESNET, TASK_C_KNN, TASK_C_RESNET, TASK_D_KNN, TASK_D_RESNET]\n",
    "\n",
    "\n",
    "for task,tmetric,tbox,tcolor,ttitle,gtcolor in tasks:\n",
    "    with open(task, 'rb') as f:\n",
    "        to_run = pickle.load(f)\n",
    "\n",
    "    am24utils.plot_runs(to_run, arg_metric = tmetric, arg_plottype = tbox, color=tcolor, title=ttitle, groundTruthBar_color=gtcolor, boldline=2.0 if tbox == 'bar' else 1.5)\n",
    "    plt.savefig(os.path.join('paper_figures',os.path.splitext(os.path.basename(task))[0]+'.svg'), bbox_inches='tight')\n"
   ]
  },
  {
   "cell_type": "code",
   "execution_count": null,
   "metadata": {},
   "outputs": [],
   "source": [
    "os.chdir('paper_figures')\n",
    "os.system('zip plots.zip *.svg')\n",
    "os.system('rm *.svg')\n",
    "os.chdir('..')"
   ]
  }
 ],
 "metadata": {
  "kernelspec": {
   "display_name": "audiomostly24",
   "language": "python",
   "name": "python3"
  },
  "language_info": {
   "codemirror_mode": {
    "name": "ipython",
    "version": 3
   },
   "file_extension": ".py",
   "mimetype": "text/x-python",
   "name": "python",
   "nbconvert_exporter": "python",
   "pygments_lexer": "ipython3",
   "version": "3.10.14"
  }
 },
 "nbformat": 4,
 "nbformat_minor": 2
}
