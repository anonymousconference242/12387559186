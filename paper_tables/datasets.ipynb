{
 "cells": [
  {
   "cell_type": "code",
   "execution_count": 40,
   "metadata": {},
   "outputs": [
    {
     "name": "stdout",
     "output_type": "stream",
     "text": [
      "Index(['Dataset', ' Guitar Type', 'Transducer', ' Hexaphonic',\n",
      "       'Annotated Techniques', 'Onset annotations', 'Other Annotations'],\n",
      "      dtype='object')\n"
     ]
    },
    {
     "data": {
      "text/html": [
       "<div>\n",
       "<style scoped>\n",
       "    .dataframe tbody tr th:only-of-type {\n",
       "        vertical-align: middle;\n",
       "    }\n",
       "\n",
       "    .dataframe tbody tr th {\n",
       "        vertical-align: top;\n",
       "    }\n",
       "\n",
       "    .dataframe thead th {\n",
       "        text-align: right;\n",
       "    }\n",
       "</style>\n",
       "<table border=\"1\" class=\"dataframe\">\n",
       "  <thead>\n",
       "    <tr style=\"text-align: right;\">\n",
       "      <th></th>\n",
       "      <th>Dataset</th>\n",
       "      <th>Guitar Type</th>\n",
       "      <th>Transducer</th>\n",
       "      <th>Annotated Techniques</th>\n",
       "      <th>Onset annotations</th>\n",
       "    </tr>\n",
       "  </thead>\n",
       "  <tbody>\n",
       "    <tr>\n",
       "      <th>0</th>\n",
       "      <td>Guitar Set</td>\n",
       "      <td>Acoustic</td>\n",
       "      <td>Internal</td>\n",
       "      <td>\\xmark</td>\n",
       "      <td>\\cmark</td>\n",
       "    </tr>\n",
       "    <tr>\n",
       "      <th>1</th>\n",
       "      <td>IDMT\\_SMT\\_Guitar Dataset</td>\n",
       "      <td>Acoustic,Electric</td>\n",
       "      <td>Internal and External</td>\n",
       "      <td>3 excitation styles and 6 expression styles</td>\n",
       "      <td>\\cmark</td>\n",
       "    </tr>\n",
       "    <tr>\n",
       "      <th>2</th>\n",
       "      <td>EGDB</td>\n",
       "      <td>Electric</td>\n",
       "      <td>Internal</td>\n",
       "      <td>\\xmark</td>\n",
       "      <td>\\cmark (MIDI)</td>\n",
       "    </tr>\n",
       "    <tr>\n",
       "      <th>3</th>\n",
       "      <td>aGPTset</td>\n",
       "      <td>Acoustic</td>\n",
       "      <td>Internal</td>\n",
       "      <td>12</td>\n",
       "      <td>\\cmark (for 8 techniques)</td>\n",
       "    </tr>\n",
       "  </tbody>\n",
       "</table>\n",
       "</div>"
      ],
      "text/plain": [
       "                     Dataset        Guitar Type             Transducer  \\\n",
       "0                 Guitar Set           Acoustic               Internal   \n",
       "1  IDMT\\_SMT\\_Guitar Dataset  Acoustic,Electric  Internal and External   \n",
       "2                       EGDB           Electric               Internal   \n",
       "3                    aGPTset           Acoustic               Internal   \n",
       "\n",
       "                          Annotated Techniques           Onset annotations  \n",
       "0                                       \\xmark                      \\cmark  \n",
       "1  3 excitation styles and 6 expression styles                      \\cmark  \n",
       "2                                       \\xmark               \\cmark (MIDI)  \n",
       "3                                           12   \\cmark (for 8 techniques)  "
      ]
     },
     "metadata": {},
     "output_type": "display_data"
    },
    {
     "name": "stdout",
     "output_type": "stream",
     "text": [
      "\\begin{tabular}{lllll}\n",
      "\\toprule\n",
      "Dataset &  Guitar Type & Transducer & Annotated Techniques & Onset annotations \\\\\n",
      "\\midrule\n",
      "Guitar Set &  Acoustic & Internal & \\xmark & \\cmark \\\\\n",
      "IDMT\\_SMT\\_Guitar Dataset & Acoustic,Electric & Internal and External & 3 excitation styles and 6 expression styles & \\cmark \\\\\n",
      "EGDB & Electric & Internal & \\xmark & \\cmark (MIDI) \\\\\n",
      "aGPTset &  Acoustic &  Internal &  12 &  \\cmark (for 8 techniques) \\\\\n",
      "\\bottomrule\n",
      "\\end{tabular}\n",
      "\n"
     ]
    }
   ],
   "source": [
    "import pandas as pd\n",
    "import pickle, matplotlib.pyplot as plt\n",
    "\n",
    "filetl = 'datasets.csv'\n",
    "\n",
    "df = pd.read_csv(filetl)\n",
    "\n",
    "# replace all - with commas, in all cells\n",
    "df = df.replace('-',',', regex=True)\n",
    "df = df.replace('_','\\\\_', regex=True)\n",
    "df = df.replace('&','and', regex=True)\n",
    "\n",
    "df = df.replace('IDMT,SMT,Guitar Dataset','IDMT\\\\_SMT\\\\_Guitar Dataset', regex=True)\n",
    "\n",
    "\n",
    "\n",
    "df = df.replace('TRUE',r'\\\\cmark', regex=True)\n",
    "print(df.columns)\n",
    "#drop hexaphonic column from dataframe\n",
    "df = df.drop(columns=[' Hexaphonic','Other Annotations'])\n",
    "# Replace NaN with string '\\xmark'\n",
    "df = df.fillna('\\\\xmark')\n",
    "\n",
    "display(df)\n",
    "lat = df.to_latex(index=False)\n",
    "print(lat)\n",
    "\n"
   ]
  },
  {
   "cell_type": "code",
   "execution_count": 70,
   "metadata": {},
   "outputs": [
    {
     "data": {
      "text/html": [
       "<div>\n",
       "<style scoped>\n",
       "    .dataframe tbody tr th:only-of-type {\n",
       "        vertical-align: middle;\n",
       "    }\n",
       "\n",
       "    .dataframe tbody tr th {\n",
       "        vertical-align: top;\n",
       "    }\n",
       "\n",
       "    .dataframe thead th {\n",
       "        text-align: right;\n",
       "    }\n",
       "</style>\n",
       "<table border=\"1\" class=\"dataframe\">\n",
       "  <thead>\n",
       "    <tr style=\"text-align: right;\">\n",
       "      <th></th>\n",
       "      <th>\\textbf{Dataset}</th>\n",
       "      <th>\\textbf{Mean Onset Error [ms]}</th>\n",
       "      <th>\\textbf{Std Dev. [ms]}</th>\n",
       "    </tr>\n",
       "  </thead>\n",
       "  <tbody>\n",
       "    <tr>\n",
       "      <th>0</th>\n",
       "      <td>EGDB</td>\n",
       "      <td>34.6</td>\n",
       "      <td>31.4</td>\n",
       "    </tr>\n",
       "    <tr>\n",
       "      <th>1</th>\n",
       "      <td>GuitarSet</td>\n",
       "      <td>12.4</td>\n",
       "      <td>3.8</td>\n",
       "    </tr>\n",
       "    <tr>\n",
       "      <th>2</th>\n",
       "      <td>IDMT\\_SMT\\_Guitar</td>\n",
       "      <td>8.5</td>\n",
       "      <td>9.2</td>\n",
       "    </tr>\n",
       "  </tbody>\n",
       "</table>\n",
       "</div>"
      ],
      "text/plain": [
       "    \\textbf{Dataset}  \\textbf{Mean Onset Error [ms]}  \\textbf{Std Dev. [ms]}\n",
       "0               EGDB                            34.6                    31.4\n",
       "1          GuitarSet                            12.4                     3.8\n",
       "2  IDMT\\_SMT\\_Guitar                             8.5                     9.2"
      ]
     },
     "metadata": {},
     "output_type": "display_data"
    },
    {
     "name": "stdout",
     "output_type": "stream",
     "text": [
      "\\begin{tabular}{lrr}\n",
      "\\toprule\n",
      "\\textbf{Dataset} & \\textbf{Mean Onset Error [ms]} & \\textbf{Std Dev. [ms]} \\\\\n",
      "\\midrule\n",
      "EGDB & 34.6 & 31.4 \\\\\n",
      "GuitarSet & 12.4 & 3.8 \\\\\n",
      "IDMT\\_SMT\\_Guitar & 8.5 & 9.2 \\\\\n",
      "\\bottomrule\n",
      "\\end{tabular}\n",
      "\n"
     ]
    }
   ],
   "source": [
    "# filet2 = 'datasets-sample-measurements/results.csv'\n",
    "pfname = 'datasets-sample-measurements/result-errors.pickle'\n",
    "\n",
    "with open(pfname, 'rb') as f:\n",
    "    errors = pickle.load(f)\n",
    "\n",
    "renamer = {\n",
    "    'idmt-smt-guitar-v2': 'IDMT_SMT_Guitar',\n",
    "    'guitarset': 'GuitarSet',\n",
    "    'egdbset': 'EGDB'\n",
    "}\n",
    "\n",
    "# df2 = pd.read_csv(filet2, sep='\\t')\n",
    "\n",
    "templist = []\n",
    "for k,v in errors.items():\n",
    "    DOINT= False\n",
    "    if DOINT:\n",
    "        templist.append( (k,int(round(v['mean'],0)),int(round(v['std'],0))) )\n",
    "    else:\n",
    "        templist.append( (k,round(v['mean'],1),round(v['std'],1)) )\n",
    "df2 = pd.DataFrame(templist, columns=['Dataset','Mean Onset Error [ms]', 'Std Dev. [ms]'])\n",
    "\n",
    "\n",
    "\n",
    "# # replace idmt-smt-guitar-v2\twith IDMT\\_SMT\\_Guitar Dataset\n",
    "# df2 = df2.replace('idmt-smt-guitar-v2','IDMT\\\\_SMT\\\\_Guitar', regex=True)\n",
    "# # guitarset with GuitarSet\n",
    "# df2 = df2.replace('guitarset','GuitarSet', regex=True)\n",
    "# # egdbset with EGDB\n",
    "# df2 = df2.replace('egdbset','EGDB', regex=True)\n",
    "# apply renamer to dataset names\n",
    "df2['Dataset'] = df2['Dataset'].apply(lambda x: renamer[x].replace('_','\\\\_'))\n",
    "\n",
    "# all column names bold (latex)\n",
    "df2.columns = [f'\\\\textbf{{{col}}}' for col in df2.columns]\n",
    "\n",
    "\n",
    "display(df2)\n",
    "lat = df2.to_latex(index=False, float_format=\"%.1f\")\n",
    "print(lat)"
   ]
  },
  {
   "cell_type": "code",
   "execution_count": 47,
   "metadata": {},
   "outputs": [
    {
     "data": {
      "image/png": "[encoded data removed]",
      "text/plain": [
       "<Figure size 550x165 with 1 Axes>"
      ]
     },
     "metadata": {},
     "output_type": "display_data"
    }
   ],
   "source": [
    "# small horizontal boxplot\n",
    "\n",
    "fac = 1.1\n",
    "fig, ax = plt.subplots(figsize=(5*fac, 1.5*fac))\n",
    "\n",
    "\n",
    "for i,k in enumerate(errors.keys()):\n",
    "    err = list(errors[k]['errors'])\n",
    "    ax.boxplot(err, positions=[i], widths=0.6, vert=False)\n",
    "ax.set_yticks(range(len(errors.keys())))\n",
    "ax.set_yticklabels([renamer[e] for e in errors.keys()])\n",
    "# reverse vertical order\n",
    "ax.invert_yaxis()\n",
    "plt.tight_layout()\n",
    "ax.set_xlabel('Ground-truth Onset Time error [ms]') \n",
    "fig.savefig('../paper_figures/dataset-onset-error.svg', bbox_inches='tight')"
   ]
  }
 ],
 "metadata": {
  "kernelspec": {
   "display_name": "audiomostly24",
   "language": "python",
   "name": "python3"
  },
  "language_info": {
   "codemirror_mode": {
    "name": "ipython",
    "version": 3
   },
   "file_extension": ".py",
   "mimetype": "text/x-python",
   "name": "python",
   "nbconvert_exporter": "python",
   "pygments_lexer": "ipython3",
   "version": "3.10.14"
  }
 },
 "nbformat": 4,
 "nbformat_minor": 2
}
